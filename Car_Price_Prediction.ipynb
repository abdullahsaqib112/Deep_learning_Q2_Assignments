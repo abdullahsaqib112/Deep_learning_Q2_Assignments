{
  "nbformat": 4,
  "nbformat_minor": 0,
  "metadata": {
    "colab": {
      "name": "Car Price Prediction.ipynb",
      "provenance": [],
      "collapsed_sections": [],
      "authorship_tag": "ABX9TyNCxo8qyS0q1AwjiuTsZNwH",
      "include_colab_link": true
    },
    "kernelspec": {
      "name": "python3",
      "display_name": "Python 3"
    },
    "language_info": {
      "name": "python"
    }
  },
  "cells": [
    {
      "cell_type": "markdown",
      "metadata": {
        "id": "view-in-github",
        "colab_type": "text"
      },
      "source": [
        "<a href=\"https://colab.research.google.com/github/abdullahsaqib112/Deep_learning_Q2_Assignments/blob/main/Car_Price_Prediction.ipynb\" target=\"_parent\"><img src=\"https://colab.research.google.com/assets/colab-badge.svg\" alt=\"Open In Colab\"/></a>"
      ]
    },
    {
      "cell_type": "code",
      "metadata": {
        "id": "RQiMWLTNJRKN"
      },
      "source": [
        "#Importing All Liabraries\n",
        "\n",
        "import pandas as pd\n",
        "import sklearn.preprocessing\n",
        "import numpy as np\n",
        "import matplotlib.pyplot as plt\n",
        "\n",
        "\n",
        "\n",
        "# Loading data using Pandas\n",
        "data = pd.read_csv(\"CarPrice_Assignment.csv\")\n"
      ],
      "execution_count": 112,
      "outputs": []
    },
    {
      "cell_type": "code",
      "metadata": {
        "id": "bM-yra6GF00Z"
      },
      "source": [
        "#Encoding All String data into numerical to pass into tensor\n",
        "\n",
        "from sklearn.preprocessing import LabelEncoder\n",
        "labelencoder= LabelEncoder()\n",
        "data['CarName']= labelencoder.fit_transform(data['CarName'])\n",
        "data['fueltype']=labelencoder.fit_transform(data['fueltype'])\n",
        "data['aspiration']=labelencoder.fit_transform(data['aspiration'])\n",
        "data['doornumber']=labelencoder.fit_transform(data['doornumber'])\n",
        "data['carbody']=labelencoder.fit_transform(data['carbody'])\n",
        "data['drivewheel']=labelencoder.fit_transform(data['drivewheel'])\n",
        "data['enginelocation']=labelencoder.fit_transform(data['enginelocation'])\n",
        "data['enginetype']=labelencoder.fit_transform(data['enginetype'])\n",
        "data['cylindernumber']=labelencoder.fit_transform(data['cylindernumber'])\n",
        "data['fuelsystem']=labelencoder.fit_transform(data['fuelsystem'])\n"
      ],
      "execution_count": 113,
      "outputs": []
    },
    {
      "cell_type": "code",
      "metadata": {
        "id": "csaHCZ_bJOTl"
      },
      "source": [
        "#Splitting data And passing into Tensor\n",
        "\n",
        "\n",
        "x = (data.loc[:, data.columns != 'price'])\n",
        "y = (data.loc[:, data.columns == 'price'])\n",
        "\n",
        "from sklearn.model_selection import train_test_split\n",
        "train_data, test_data , train_targets , test_targets = train_test_split(x, y , test_size= 0.30, random_state=42)\n",
        "\n",
        "\n",
        "#Subtracting mean And dividing with standard deviation to make data centered\n",
        "\n",
        "mean = train_data.mean(axis=0)\n",
        "train_data -= mean\n",
        "std = train_data.std(axis=0)\n",
        "train_data /= std\n",
        "\n",
        "test_data -= mean\n",
        "test_data /= std\n"
      ],
      "execution_count": 114,
      "outputs": []
    },
    {
      "cell_type": "code",
      "metadata": {
        "id": "0Pj_lfFQLGwC"
      },
      "source": [
        "#Building model\n",
        "\n",
        "from keras import models\n",
        "from keras import layers\n",
        "def build_model():\n",
        "  model = models.Sequential()\n",
        "  model.add(layers.Dense(26, activation='relu', input_shape=(train_data.shape[1],)))\n",
        "  model.add(layers.Dense(10, activation='relu'))\n",
        "  model.add(layers.Dense(8, activation='relu'))\n",
        "  model.add(layers.Dense(6, activation='relu'))\n",
        "  model.add(layers.Dense(1))\n",
        "  model.compile(optimizer='rmsprop',\n",
        "                loss = 'mse',\n",
        "                metrics= ['mae'])\n",
        "  return model\n",
        "\n"
      ],
      "execution_count": 115,
      "outputs": []
    },
    {
      "cell_type": "code",
      "metadata": {
        "colab": {
          "base_uri": "https://localhost:8080/"
        },
        "id": "itFhk0IYU_vx",
        "outputId": "dffcb1c0-321f-42cb-bd47-edcda5566682"
      },
      "source": [
        "#Using K-fold Validation\n",
        "\n",
        "k=4\n",
        "num_val_samples = len(train_data) // k\n",
        "num_epochs = 100\n",
        "all_scores = []\n",
        "\n",
        "all_mae_histories=[]\n",
        "\n",
        "for i in range (k):\n",
        "  print(\"processing Fold #\", i)\n",
        "  val_data= train_data[i * num_val_samples: (i + 1) * num_val_samples]\n",
        "  val_target= train_targets[i * num_val_samples: (i + 1) * num_val_samples]\n",
        "\n",
        "  partial_train_data = np.concatenate([train_data[:i * num_val_samples],\n",
        "                                      train_data[(i + 1) * num_val_samples:]],\n",
        "                                      axis = 0)\n",
        "  \n",
        "  partial_train_targets = np.concatenate([train_targets[:i * num_val_samples],\n",
        "                                        train_targets[(i + 1) * num_val_samples:]],\n",
        "                                        axis = 0)\n",
        "  \n",
        "\n",
        "  model = build_model()\n",
        "\n",
        "  history = model.fit(partial_train_data,\n",
        "                      partial_train_targets,\n",
        "                      validation_data=(val_data, val_target),\n",
        "                      epochs = num_epochs,\n",
        "                      batch_size = 1 , verbose = 0)\n",
        "  \n",
        "  mae_history = history.history['val_mae']\n",
        "  all_mae_histories.append(mae_history)"
      ],
      "execution_count": 116,
      "outputs": [
        {
          "output_type": "stream",
          "text": [
            "processing Fold # 0\n",
            "processing Fold # 1\n",
            "processing Fold # 2\n",
            "processing Fold # 3\n"
          ],
          "name": "stdout"
        }
      ]
    },
    {
      "cell_type": "code",
      "metadata": {
        "colab": {
          "base_uri": "https://localhost:8080/",
          "height": 279
        },
        "id": "BEU_jE5KVCER",
        "outputId": "5dc1d228-9f36-43c9-ee59-83e329dc0003"
      },
      "source": [
        "\n",
        "average_mae_history = [\n",
        "np.mean([x[i] for x in all_mae_histories]) for i in range(num_epochs)]\n",
        "\n",
        "plt.plot(range(1, len(average_mae_history) + 1), average_mae_history)\n",
        "plt.xlabel('Epochs')\n",
        "plt.ylabel('Validation MAE')\n",
        "plt.show()"
      ],
      "execution_count": 117,
      "outputs": [
        {
          "output_type": "display_data",
          "data": {
            "image/png": "[encoded data removed]",
            "text/plain": [
              "<Figure size 432x288 with 1 Axes>"
            ]
          },
          "metadata": {
            "tags": [],
            "needs_background": "light"
          }
        }
      ]
    },
    {
      "cell_type": "code",
      "metadata": {
        "colab": {
          "base_uri": "https://localhost:8080/"
        },
        "id": "gUe142FZVqTS",
        "outputId": "0ba62fe5-65b2-4dcd-e92f-88777cd4a7cd"
      },
      "source": [
        "\n",
        "test_mse_score, test_mae_score = model.evaluate(test_data, test_targets)"
      ],
      "execution_count": 118,
      "outputs": [
        {
          "output_type": "stream",
          "text": [
            "2/2 [==============================] - 0s 7ms/step - loss: 8928687.0000 - mae: 1888.9240\n"
          ],
          "name": "stdout"
        }
      ]
    },
    {
      "cell_type": "code",
      "metadata": {
        "colab": {
          "base_uri": "https://localhost:8080/"
        },
        "id": "BZi-vFRlXUxf",
        "outputId": "0ad31047-38ef-40a4-ad8b-9be047d3865d"
      },
      "source": [
        "test_mae_score"
      ],
      "execution_count": 119,
      "outputs": [
        {
          "output_type": "execute_result",
          "data": {
            "text/plain": [
              "1888.9239501953125"
            ]
          },
          "metadata": {
            "tags": []
          },
          "execution_count": 119
        }
      ]
    },
    {
      "cell_type": "code",
      "metadata": {
        "id": "RbWbsSoUXkBk"
      },
      "source": [
        "#prediction\n",
        "\n",
        "predictions = model.predict(test_data)\n",
        "prediction = predictions.flatten()"
      ],
      "execution_count": 129,
      "outputs": []
    },
    {
      "cell_type": "code",
      "metadata": {
        "id": "n-3cpB44bBzN"
      },
      "source": [
        "output= pd.DataFrame({\"Target Price\" : test_targets.price, \"Predicted Price\" : prediction} )"
      ],
      "execution_count": 130,
      "outputs": []
    },
    {
      "cell_type": "code",
      "metadata": {
        "colab": {
          "base_uri": "https://localhost:8080/",
          "height": 419
        },
        "id": "E5geVsqcblGX",
        "outputId": "33feeead-19b4-4081-b07e-4e3909eefa85"
      },
      "source": [
        "output"
      ],
      "execution_count": 127,
      "outputs": [
        {
          "output_type": "execute_result",
          "data": {
            "text/html": [
              "<div>\n",
              "<style scoped>\n",
              "    .dataframe tbody tr th:only-of-type {\n",
              "        vertical-align: middle;\n",
              "    }\n",
              "\n",
              "    .dataframe tbody tr th {\n",
              "        vertical-align: top;\n",
              "    }\n",
              "\n",
              "    .dataframe thead th {\n",
              "        text-align: right;\n",
              "    }\n",
              "</style>\n",
              "<table border=\"1\" class=\"dataframe\">\n",
              "  <thead>\n",
              "    <tr style=\"text-align: right;\">\n",
              "      <th></th>\n",
              "      <th>Target Price</th>\n",
              "      <th>Predicted Price</th>\n",
              "    </tr>\n",
              "  </thead>\n",
              "  <tbody>\n",
              "    <tr>\n",
              "      <th>15</th>\n",
              "      <td>30760.000</td>\n",
              "      <td>30846.033203</td>\n",
              "    </tr>\n",
              "    <tr>\n",
              "      <th>9</th>\n",
              "      <td>17859.167</td>\n",
              "      <td>19063.271484</td>\n",
              "    </tr>\n",
              "    <tr>\n",
              "      <th>100</th>\n",
              "      <td>9549.000</td>\n",
              "      <td>8618.804688</td>\n",
              "    </tr>\n",
              "    <tr>\n",
              "      <th>132</th>\n",
              "      <td>11850.000</td>\n",
              "      <td>15412.849609</td>\n",
              "    </tr>\n",
              "    <tr>\n",
              "      <th>68</th>\n",
              "      <td>28248.000</td>\n",
              "      <td>22412.705078</td>\n",
              "    </tr>\n",
              "    <tr>\n",
              "      <th>...</th>\n",
              "      <td>...</td>\n",
              "      <td>...</td>\n",
              "    </tr>\n",
              "    <tr>\n",
              "      <th>56</th>\n",
              "      <td>11845.000</td>\n",
              "      <td>13451.864258</td>\n",
              "    </tr>\n",
              "    <tr>\n",
              "      <th>128</th>\n",
              "      <td>37028.000</td>\n",
              "      <td>34616.636719</td>\n",
              "    </tr>\n",
              "    <tr>\n",
              "      <th>76</th>\n",
              "      <td>5389.000</td>\n",
              "      <td>6373.745117</td>\n",
              "    </tr>\n",
              "    <tr>\n",
              "      <th>144</th>\n",
              "      <td>9233.000</td>\n",
              "      <td>8502.929688</td>\n",
              "    </tr>\n",
              "    <tr>\n",
              "      <th>104</th>\n",
              "      <td>17199.000</td>\n",
              "      <td>19650.050781</td>\n",
              "    </tr>\n",
              "  </tbody>\n",
              "</table>\n",
              "<p>62 rows × 2 columns</p>\n",
              "</div>"
            ],
            "text/plain": [
              "     Target Price  Predicted Price\n",
              "15      30760.000     30846.033203\n",
              "9       17859.167     19063.271484\n",
              "100      9549.000      8618.804688\n",
              "132     11850.000     15412.849609\n",
              "68      28248.000     22412.705078\n",
              "..            ...              ...\n",
              "56      11845.000     13451.864258\n",
              "128     37028.000     34616.636719\n",
              "76       5389.000      6373.745117\n",
              "144      9233.000      8502.929688\n",
              "104     17199.000     19650.050781\n",
              "\n",
              "[62 rows x 2 columns]"
            ]
          },
          "metadata": {
            "tags": []
          },
          "execution_count": 127
        }
      ]
    },
    {
      "cell_type": "code",
      "metadata": {
        "id": "etPiFo3QmOZA"
      },
      "source": [
        "output.to_csv('CarPriceProject,csv', index='false')\n"
      ],
      "execution_count": 135,
      "outputs": []
    },
    {
      "cell_type": "code",
      "metadata": {
        "id": "_eRD7yT4nin1"
      },
      "source": [
        ""
      ],
      "execution_count": null,
      "outputs": []
    }
  ]
}